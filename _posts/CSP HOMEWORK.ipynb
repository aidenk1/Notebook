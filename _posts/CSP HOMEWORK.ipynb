{
 "cells": [
  {
   "cell_type": "markdown",
   "metadata": {},
   "source": [
    "---\n",
    "toc: true\n",
    "comments: false\n",
    "layout: posts\n",
    "title: Lesson HW\n",
    "description: Homework the the student teachings\n",
    "type: tangibles\n",
    "courses: { compsci: {week: 3} }\n",
    "---"
   ]
  },
  {
   "cell_type": "code",
   "execution_count": 7,
   "metadata": {},
   "outputs": [
    {
     "name": "stdout",
     "output_type": "stream",
     "text": [
      "Hello Chris\n",
      "15\n",
      "1180896.73\n",
      "Peyton has 2 siblings\n"
     ]
    }
   ],
   "source": [
    "#10/4\n",
    "#Greeting With Variables\n",
    "greeting = \"Hello\"\n",
    "name = \"Chris\"\n",
    "print(greeting + \" \" + name )\n",
    "#Integer Operation\n",
    "int1 = 5\n",
    "int2 = 10\n",
    "print(int1 + int2)\n",
    "#Float Operation/\n",
    "float1 = 1123551.23\n",
    "float2 = 57345.50\n",
    "print(float1 + float2)\n",
    "\n",
    "#Format Manipulation\n",
    "message = \"{0} has {1} siblings\"\n",
    "print(message.format(\"Peyton\", \"2\"))"
   ]
  },
  {
   "cell_type": "code",
   "execution_count": 1,
   "metadata": {},
   "outputs": [
    {
     "name": "stdout",
     "output_type": "stream",
     "text": [
      "It is not a palindrome\n"
     ]
    }
   ],
   "source": [
    "#10/5\n",
    "#Code to detect palindrome\n",
    "string = input(\"Enter a word: \")\n",
    "def palindrome(words):\n",
    "    for i in words:\n",
    "        if words[0] != words[len(words)-1]:\n",
    "            return \"It is not a palindrome\"\n",
    "    return \"It is a palindrome\"\n",
    "print(palindrome(string))\n"
   ]
  },
  {
   "cell_type": "code",
   "execution_count": 11,
   "metadata": {},
   "outputs": [
    {
     "name": "stdout",
     "output_type": "stream",
     "text": [
      "A\n"
     ]
    }
   ],
   "source": [
    "#10/10\n",
    "#Question 1\n",
    "age = 16\n",
    "if (age >= 18) == True:\n",
    "    print(\"You can vote\")\n",
    "else:\n",
    "    print(\"You cannot drive\")\n",
    "#Question 2\n",
    "yearsInCompany = int(input(\"How long have you been with the company?: \"))\n",
    "salary = int(input(\"Enter your salary: \"))\n",
    "bonus = 0\n",
    "if yearsInCompany >= 5:\n",
    "    bonus = (int(salary) * 1.05) - salary\n",
    "    print(\"Your bonus is \" + \"$\" + str(bonus))\n",
    "else: \n",
    "    print(\"Sorry, no bonus.\")\n",
    "#Question 3    \n",
    "grade = int(input(\"Enter your grade\"))\n",
    "\n",
    "if grade > 80:\n",
    "    letterGrade = \"A\"\n",
    "elif grade > 60:\n",
    "    letterGrade = \"B\"\n",
    "elif grade > 50:\n",
    "    letterGrade = \"C\"\n",
    "elif grade > 45:\n",
    "    letterGrade = \"D\"\n",
    "elif grade > 25:\n",
    "    letterGrade = \"E\"\n",
    "else:\n",
    "    letterGrade = \"F\"\n",
    "\n",
    "print(letterGrade)\n",
    "\n",
    "    "
   ]
  }
 ],
 "metadata": {
  "kernelspec": {
   "display_name": "Python 3",
   "language": "python",
   "name": "python3"
  },
  "language_info": {
   "codemirror_mode": {
    "name": "ipython",
    "version": 3
   },
   "file_extension": ".py",
   "mimetype": "text/x-python",
   "name": "python",
   "nbconvert_exporter": "python",
   "pygments_lexer": "ipython3",
   "version": "3.11.4"
  },
  "orig_nbformat": 4
 },
 "nbformat": 4,
 "nbformat_minor": 2
}
