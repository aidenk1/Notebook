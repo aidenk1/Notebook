{
 "cells": [
  {
   "cell_type": "markdown",
   "id": "1e208e92",
   "metadata": {},
   "source": [
    "---\n",
    "toc: true\n",
    "comments: false\n",
    "layout: post\n",
    "title: Programs with Functions and Purpose\n",
    "description: Programs with Functions\n",
    "type: hacks\n",
    "courses: { compsci: {week: 3} }\n",
    "---"
   ]
  },
  {
   "cell_type": "code",
   "execution_count": 38,
   "id": "184fd88f",
   "metadata": {},
   "outputs": [
    {
     "name": "stdout",
     "output_type": "stream",
     "text": [
      "Hello World!\n"
     ]
    }
   ],
   "source": [
    "#Program with an output\n",
    "print(\"Hello World!\")"
   ]
  },
  {
   "cell_type": "code",
   "execution_count": 39,
   "id": "86f3979e",
   "metadata": {},
   "outputs": [
    {
     "name": "stdout",
     "output_type": "stream",
     "text": [
      "hello john\n"
     ]
    }
   ],
   "source": [
    "#Program with an input and output5\n",
    "greeting = input(\"Provide a greeting: \")\n",
    "name = input(\"Provide a name: \")\n",
    "print(greeting + \" \" + name)"
   ]
  },
  {
   "cell_type": "code",
   "execution_count": 40,
   "id": "32b43994",
   "metadata": {},
   "outputs": [
    {
     "name": "stdout",
     "output_type": "stream",
     "text": [
      "Apple\n",
      "Banana\n",
      "Grape\n",
      "Watermelon\n",
      "Cherry\n",
      "Strawberry\n"
     ]
    }
   ],
   "source": [
    "#Program with a List\n",
    "fruits = [\"Apple\", \"Banana\", \"Grape\", \"Watermelon\", \"Cherry\", \"Strawberry\"]\n",
    "for fruit in fruits:\n",
    "    print(fruit)"
   ]
  },
  {
   "cell_type": "code",
   "execution_count": 41,
   "id": "529e2df8",
   "metadata": {},
   "outputs": [
    {
     "name": "stdout",
     "output_type": "stream",
     "text": [
      "Name: Kaiyu\n",
      "Age: 16\n",
      "Grade: C\n"
     ]
    }
   ],
   "source": [
    "#Program with a Dictionary\n",
    "student = {\"name\": \"Kaiyu\", \"age\": 16, \"grade\": \"C\"}\n",
    "print(\"Name:\", student[\"name\"])\n",
    "print(\"Age:\", student[\"age\"])\n",
    "print(\"Grade:\", student[\"grade\"])"
   ]
  },
  {
   "cell_type": "code",
   "execution_count": 42,
   "id": "2632b718",
   "metadata": {},
   "outputs": [
    {
     "name": "stdout",
     "output_type": "stream",
     "text": [
      "1\n",
      "12\n",
      "123\n",
      "1234\n",
      "12345\n",
      "123456\n",
      "1234567\n",
      "12345678\n",
      "123456789\n",
      "12345678910\n"
     ]
    }
   ],
   "source": [
    "#Program with an Iteration\n",
    "s = \"\"\n",
    "for i in range(1,11):\n",
    "    s += str(i) + \"\"\n",
    "    print(s)"
   ]
  },
  {
   "cell_type": "code",
   "execution_count": 43,
   "id": "995296c9",
   "metadata": {},
   "outputs": [
    {
     "name": "stdout",
     "output_type": "stream",
     "text": [
      "5.0 + 5.0 = 10.0 (Operation: addition)\n"
     ]
    }
   ],
   "source": [
    "#Program with a Function to perform mathematical and/or a statistical calculations\n",
    "def add_numbers(a, b):\n",
    "    return a + b\n",
    "\n",
    "def subtract_numbers(a, b):\n",
    "    return a - b\n",
    "\n",
    "def multiply_numbers(a, b):\n",
    "    return a * b\n",
    "\n",
    "def divide_numbers(a, b):\n",
    "    if b == 0:\n",
    "        return \"Error: Division by zero is not allowed.\"\n",
    "    return a / b\n",
    "\n",
    "num1 = float(input(\"Enter the first number: \"))\n",
    "num2 = float(input(\"Enter the second number: \"))\n",
    "\n",
    "operation = input(\"Choose operation (+ for addition, - for subtraction, * for multiplication, / for division): \")\n",
    "\n",
    "if operation == '+':\n",
    "    result = add_numbers(num1, num2)\n",
    "    operation_symbol = \"addition\"\n",
    "elif operation == '-':\n",
    "    result = subtract_numbers(num1, num2)\n",
    "    operation_symbol = \"subtraction\"\n",
    "elif operation == '*':\n",
    "    result = multiply_numbers(num1, num2)\n",
    "    operation_symbol = \"multiplication\"\n",
    "elif operation == '/':\n",
    "    result = divide_numbers(num1, num2)\n",
    "    operation_symbol = \"division\"\n",
    "else:\n",
    "    result = \"Invalid operation\"\n",
    "    operation_symbol = \"\"\n",
    "\n",
    "if operation_symbol:\n",
    "    print(f\"{num1} {operation} {num2} = {result} (Operation: {operation_symbol})\")\n",
    "else:\n",
    "    print(result)"
   ]
  },
  {
   "cell_type": "code",
   "execution_count": 44,
   "id": "93f34592",
   "metadata": {},
   "outputs": [
    {
     "name": "stdout",
     "output_type": "stream",
     "text": [
      "You are a minor\n"
     ]
    }
   ],
   "source": [
    "#Program with a conditional\n",
    "age = int(input(\"How old are you?: \"))\n",
    "if age >= 18:\n",
    "    print(\"You are an adult\")\n",
    "else:\n",
    "    print(\"You are a minor\")"
   ]
  },
  {
   "cell_type": "code",
   "execution_count": 45,
   "id": "9af0b089",
   "metadata": {},
   "outputs": [
    {
     "name": "stdout",
     "output_type": "stream",
     "text": [
      "The weight in kilograms is 6.8\n"
     ]
    }
   ],
   "source": [
    "# Program with purpose\n",
    "weightInPounds = input(\"Input the weight in pounds: \")\n",
    "weightInKilograms = float(weightInPounds) / 2.205\n",
    "roundedWeightInKilograms = round(weightInKilograms, 2)\n",
    "print(\"The weight in kilograms is \" + str(roundedWeightInKilograms))\n"
   ]
  },
  {
   "cell_type": "code",
   "execution_count": null,
   "id": "1e32f256",
   "metadata": {},
   "outputs": [],
   "source": []
  }
 ],
 "metadata": {
  "kernelspec": {
   "display_name": "Python 3 (ipykernel)",
   "language": "python",
   "name": "python3"
  },
  "language_info": {
   "codemirror_mode": {
    "name": "ipython",
    "version": 3
   },
   "file_extension": ".py",
   "mimetype": "text/x-python",
   "name": "python",
   "nbconvert_exporter": "python",
   "pygments_lexer": "ipython3",
   "version": "3.11.4"
  }
 },
 "nbformat": 4,
 "nbformat_minor": 5
}
