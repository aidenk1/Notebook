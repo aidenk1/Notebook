{
 "cells": [
  {
   "cell_type": "code",
   "execution_count": 1,
   "id": "66bd1e58",
   "metadata": {},
   "outputs": [
    {
     "name": "stdout",
     "output_type": "stream",
     "text": [
      "Test passed: divide(6, 3) correctly returned 2\n"
     ]
    }
   ],
   "source": [
    "## First, we define our function.\n",
    "#This function takes two numbers and divides them.<br>\n",
    "#Here, we also test using non-zero numbers to see if the function works for regular division\n",
    "# Function to divide two numbers that are inputted.\n",
    "def divide(a,b):\n",
    "    # Raise a Value Error if there is division by 0\n",
    "    if b == 0:\n",
    "        raise ValueError(\"Divison by 0 is undefined\")\n",
    "    # Otherwise, return the result\n",
    "    else:\n",
    "        output = a / b\n",
    "    return output\n",
    "# First we test division with two numbers that can be divided to ensure that the function works for regular division\n",
    "result = divide(6,3)\n",
    "assert result == 2, \"Expected result for 6 / 3 is 2, but got {}\".format(result)\n",
    "print(f\"Test passed: divide(6, 3) correctly returned 2\")"
   ]
  },
  {
   "cell_type": "code",
   "execution_count": 3,
   "id": "1de96522",
   "metadata": {},
   "outputs": [
    {
     "name": "stdout",
     "output_type": "stream",
     "text": [
      "Test passed: Divison by 0 is undefined\n"
     ]
    }
   ],
   "source": [
    "## Now we can test, using a try/catch statement first.\n",
    "#Here we force the function to do division by 0 using a try statement.<br>\n",
    "#If there is a Value Error, we know that the function worked properly.\n",
    "# Here we test to see if the function works when encountering division by 0 using try/catch statements\n",
    "try:\n",
    "    result = divide(8, 0)\n",
    "    print(\"Test failed: Expected ValueError, but got result:\", result)\n",
    "except ValueError as e:\n",
    "    print(\"Test passed:\", str(e))"
   ]
  },
  {
   "cell_type": "code",
   "execution_count": 2,
   "id": "b7480aa0",
   "metadata": {},
   "outputs": [
    {
     "name": "stdout",
     "output_type": "stream",
     "text": [
      "Test passed: divide(8, 0) correctly handled division by zero.\n"
     ]
    }
   ],
   "source": [
    "## Now we test using a if/else statement.\n",
    "#Here we force the function to do division by 0 using a if statement.<br>\n",
    "#If an output is returned from the function, the function has failed, but if there is no output then the function passed.\n",
    "# Here we test to see if the function works when encountering division by 0 using if/else statements\n",
    "result = None\n",
    "if 0!=0:\n",
    "    result = divide(8, 0)\n",
    "if result is not None:\n",
    "    print(\"Test failed: Expected ValueError, but got result:\", result)\n",
    "else:\n",
    "    print(\"Test passed: divide(8, 0) correctly handled division by zero.\")"
   ]
  }
 ],
 "metadata": {
  "kernelspec": {
   "display_name": "Python 3 (ipykernel)",
   "language": "python",
   "name": "python3"
  },
  "language_info": {
   "codemirror_mode": {
    "name": "ipython",
    "version": 3
   },
   "file_extension": ".py",
   "mimetype": "text/x-python",
   "name": "python",
   "nbconvert_exporter": "python",
   "pygments_lexer": "ipython3",
   "version": "3.11.4"
  }
 },
 "nbformat": 4,
 "nbformat_minor": 5
}
