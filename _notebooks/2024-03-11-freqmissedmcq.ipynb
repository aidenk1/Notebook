{
 "cells": [
  {
   "cell_type": "markdown",
   "metadata": {},
   "source": [
    "---\n",
    "toc: true\n",
    "comments: true\n",
    "layout: post\n",
    "title: Frequently Missed MCQ Questions\n",
    "description: \n",
    "type: hacks\n",
    "courses: { compsci: {week: 26} }\n",
    "---"
   ]
  },
  {
   "cell_type": "markdown",
   "metadata": {},
   "source": [
    "## Question 64\n",
    "The following procedure is intended to return the value of x times y, where x and y are integers. Multiplication is implemented using repeated additions.\n",
    "![](https://files.catbox.moe/35jc70.png)  \n",
    "For which of the following procedure calls does the procedure NOT return the intended value?\n",
    "Select Two Answers\n",
    "### Answer Choices\n",
    "A. Multiply (2,5)  \n",
    "B. Multiply (2,-5)   \n",
    "C. Multiply (-2,5)   \n",
    "D. Multiply (-2,-5) \n",
    "## Correct Answer (B and D):\n",
    "- The reason answers B and D are correct is because the Y value is initially negative and if count = 0, the loop condition is never met and 0 is returned.\n",
    "\n",
    "## Incorrect Answer (A and C): \n",
    "- Answer A is incorrect because the procedure repeatedly adds 2 to result 5 times, which results in 10.\n",
    "- Answer C is incorrect because the procedure repeatedly adds -2 to the result 5 times, which results in -10"
   ]
  },
  {
   "cell_type": "code",
   "execution_count": 7,
   "metadata": {},
   "outputs": [
    {
     "name": "stdout",
     "output_type": "stream",
     "text": [
      "10\n",
      "0\n",
      "-10\n",
      "0\n"
     ]
    }
   ],
   "source": [
    "# flawed multiply function\n",
    "# as a popcorn hack (coding challenge), fix the multiply function to work with negative numbers\n",
    "\n",
    "'''\n",
    "As you can see, the function fails when y is negative,\n",
    "because the while loop condition count < y is never true in these cases.\n",
    "'''\n",
    "\n",
    "def multiply(x, y):\n",
    "    count = 0\n",
    "    result = 0\n",
    "    while count < y:\n",
    "        result += x\n",
    "        count += 1\n",
    "    return result\n",
    "\n",
    "# Test cases\n",
    "print(multiply(2, 5))  # Expected output: 10\n",
    "print(multiply(2, -5))  # Expected output: -10, Actual output: 0\n",
    "print(multiply(-2, 5))  # Expected output: -10\n",
    "print(multiply(-2, -5))  # Expected output: 10, Actual output: 0"
   ]
  },
  {
   "cell_type": "markdown",
   "metadata": {},
   "source": [
    "## 65. Call to concat and substring (4B string operations)\n",
    "A program contains the following procedures for string manipulation.\n",
    "![](https://files.catbox.moe/c8jtc7.png)\n",
    "Which of the following can be used to store the string “jackalope” in the string variable animal ?\n",
    "\n",
    "Select two answers.\n",
    "\n",
    "### Answer Choices\n",
    "A.  \n",
    "animal ←← Substring (\"antelope\", 5, 4)  \n",
    "animal ←← Concat (animal, \"a\")  \n",
    "animal ←← Concat (Substring (\"jackrabbit\", 1, 4), animal)  \n",
    "\n",
    "B.  \n",
    "animal ←← Substring (\"antelope\", 5, 4)  \n",
    "animal ←← Concat (\"a\", animal)  \n",
    "animal ←← Concat (Substring (\"jackrabbit\", 1, 4), animal)  \n",
    "\n",
    "C.  \n",
    "animal ←← Substring (\"jackrabbit\", 1, 4)  \n",
    "animal ←← Concat (animal, \"a\")  \n",
    "animal ←← Concat (animal, Substring (\"antelope\", 5, 4))  \n",
    "\n",
    "D.  \n",
    "animal ←← Substring (\"jackrabbit\", 1, 4)  \n",
    "animal ←← Concat (animal, \"a\")  \n",
    "animal ←← Concat (Substring (\"antelope\", 5, 4), animal)  \n",
    "\n",
    "### Correct Answers (B and C):\n",
    "- Answer B stores \"lope\" into animal, and then concatonates or adds \"a\" to \"lope\" which stores into animal as \"alope\". Finally, it concatonates substring \"jack\" with \"alope\" to store \"jackalope\" in animal.\n",
    "- Answer C first stores \"jack\" into animal and then concatonates \"jack\" and \"a\" to store \"jacka\" in animal. Finally it concatonates \"jacka\" and \"lope\" to store jackalope.\n",
    "### Incorrect Answers (A and D):\n",
    "- Answer A first stores \"lope\" then concatonates \"lope\" and \"a\" to store \"lopea\". Lastly, it concatonates \"jack\" with \"lopea\" to store \"jacklopea\"\n",
    "- Answer Dstores \"jack\" into animal and concatonates \"jack\" and \"a\" to store \"jacka\" in animal. The last step is where the error is because it concatonates \"lope\" and \"jacka\" to store \"lopejacka\"\n"
   ]
  },
  {
   "cell_type": "code",
   "execution_count": 1,
   "metadata": {},
   "outputs": [
    {
     "name": "stdout",
     "output_type": "stream",
     "text": [
      "lopejacka\n"
     ]
    }
   ],
   "source": [
    "# Incorrect Answer D\n",
    "# as a popcorn hack (binary challenge), create string and concatenation options for A, B, C\n",
    " \n",
    "animal = \"jackrabbit\"[0:4]  # Substring(\"jackrabbit\", 1, 4)\n",
    "animal += \"a\"  # Concat(animal, \"a\")\n",
    "animal = \"antelope\"[4:8] + animal  # Concat(Substring(\"antelope\", 5, 4), animal)\n",
    "print(animal)  # Outputs: lopejacka"
   ]
  }
 ],
 "metadata": {
  "kernelspec": {
   "display_name": "Python 3",
   "language": "python",
   "name": "python3"
  },
  "language_info": {
   "codemirror_mode": {
    "name": "ipython",
    "version": 3
   },
   "file_extension": ".py",
   "mimetype": "text/x-python",
   "name": "python",
   "nbconvert_exporter": "python",
   "pygments_lexer": "ipython3",
   "version": "3.11.4"
  },
  "orig_nbformat": 4
 },
 "nbformat": 4,
 "nbformat_minor": 2
}
