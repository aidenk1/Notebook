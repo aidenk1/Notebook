{
 "cells": [
  {
   "cell_type": "markdown",
   "metadata": {},
   "source": [
    "---\n",
    "layout: post\n",
    "title: All HW for Team Teaches\n",
    "description: Homework for every team teach\n",
    "toc: false\n",
    "comments: false\n",
    "type: hacks\n",
    "courses: {\"compsci\": {week: 10} }\n",
    "---"
   ]
  },
  {
   "cell_type": "markdown",
   "metadata": {},
   "source": [
    "### Homework for Algorithms"
   ]
  },
  {
   "cell_type": "code",
   "execution_count": null,
   "metadata": {},
   "outputs": [],
   "source": [
    "string = input(\"Enter a Palindrome: \")\n",
    "def palindrome(words):\n",
    "    for i in words:\n",
    "        if words[0] != words[len(words)-1]:\n",
    "            return \"It is not a palindrome\"\n",
    "    return \"It is a palindrome\"\n",
    "\n",
    "print(palindrome(string))\n",
    "\n",
    "names = [\"Jedd\", \"Bob\", \"Dentobot\", \"Chris\", \"Kaiyu\"]\n",
    "sorted_names = sorted(names)\n",
    "\n",
    "print(\"Names sorted in alphabetical order:\")\n",
    "for name in sorted_names:\n",
    "    print(name)"
   ]
  },
  {
   "cell_type": "markdown",
   "metadata": {},
   "source": [
    "### HW for Data Abstraction"
   ]
  },
  {
   "cell_type": "code",
   "execution_count": null,
   "metadata": {},
   "outputs": [],
   "source": [
    "#Greeting With Variables\n",
    "greeting = \"Hello\"\n",
    "name = \"Chris\"\n",
    "print(greeting + \" \" + name )\n",
    "#Integer Operation\n",
    "int1 = 5\n",
    "int2 = 10\n",
    "print(int1 + int2)\n",
    "#Float Operation/\n",
    "float1 = 1123551.23\n",
    "float2 = 57345.50\n",
    "print(float1 + float2)\n",
    "#Format Manipulation\n",
    "message = \"{0} has {1} siblings\"\n",
    "print(message.format(\"Peyton\", \"2\"))"
   ]
  },
  {
   "cell_type": "markdown",
   "metadata": {},
   "source": [
    "### HW for Booleans"
   ]
  },
  {
   "cell_type": "code",
   "execution_count": null,
   "metadata": {},
   "outputs": [],
   "source": [
    "#Question 1\n",
    "age = 16\n",
    "if (age >= 18) == True:\n",
    "    print(\"You can vote\")\n",
    "else:\n",
    "    print(\"You cannot drive\")\n",
    "#Question 2\n",
    "yearsInCompany = int(input(\"How long have you been with the company?: \"))\n",
    "salary = int(input(\"Enter your salary: \"))\n",
    "bonus = 0\n",
    "if yearsInCompany >= 5:\n",
    "    bonus = (int(salary) * 1.05) - salary\n",
    "    print(\"Your bonus is \" + \"$\" + str(bonus))\n",
    "else:\n",
    "   print(\"Sorry, no bonus.\")\n",
    "#Question 3\n",
    "grade = int(input(\"Enter your grade\"))\n",
    "if grade > 80:\n",
    "    letterGrade = \"A\"\n",
    "elif grade > 60:\n",
    "    letterGrade = \"B\"\n",
    "elif grade > 50:\n",
    "    letterGrade = \"C\"\n",
    "elif grade > 45:\n",
    "    letterGrade = \"D\"\n",
    "elif grade > 25:\n",
    "    letterGrade = \"E\"\n",
    "else:\n",
    "    letterGrade = \"F\"\n",
    "print(letterGrade)"
   ]
  },
  {
   "cell_type": "markdown",
   "metadata": {},
   "source": [
    "### HW for Developing Algorithms"
   ]
  },
  {
   "cell_type": "code",
   "execution_count": null,
   "metadata": {},
   "outputs": [],
   "source": [
    "\n",
    "test_scores = [85, 92, 78, 90, 88, 76, 84, 89, 94, 87]\n",
    "sorted_scores = sorted(test_scores)\n",
    "n = len(sorted_scores)\n",
    "if n % 2 == 0:\n",
    "    median = (sorted_scores[n // 2 - 1] + sorted_scores[n // 2]) / 2\n",
    "else:\n",
    "    median = sorted_scores[n // 2]\n",
    "print(\"Median test grade:\", median)\n",
    "2.\n",
    "import random\n",
    "diceNumber = random.randint(1,6)\n",
    "choice = int(input(\"What number do you think the dice will land on?: \"))\n",
    "if choice == diceNumber:\n",
    "    print(\"Congratulations, you were correct\")\n",
    "else:\n",
    "    print(\"You were incorrect, try again\")"
   ]
  },
  {
   "cell_type": "markdown",
   "metadata": {},
   "source": [
    "### HW for Procedures"
   ]
  },
  {
   "cell_type": "code",
   "execution_count": null,
   "metadata": {},
   "outputs": [],
   "source": [
    "def procedural_abstraction(input_value):\n",
    "result = input_value * 3 # Multiply the input by 3\n",
    "return result\n",
    "input_number = 7\n",
    "abstraction_result = procedural_abstraction(input_number)\n",
    "print(f\"Result of procedural abstraction for {input_number}: {abstraction_result}\")\n",
    "def summing_machine(first_number, second_number):\n",
    "total = first_number + second_number\n",
    "return total\n",
    "result = summing_machine(7, 5)\n",
    "print(\"The sum of 7 and 5 is:\", result)"
   ]
  },
  {
   "cell_type": "markdown",
   "metadata": {},
   "source": []
  }
 ],
 "metadata": {
  "language_info": {
   "name": "python"
  },
  "orig_nbformat": 4
 },
 "nbformat": 4,
 "nbformat_minor": 2
}
