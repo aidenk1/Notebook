{
 "cells": [
  {
   "cell_type": "markdown",
   "metadata": {},
   "source": [
    "---\n",
    "layout: post\n",
    "title: All HW for Team Teaches\n",
    "description: Homework for every team teach\n",
    "toc: false\n",
    "comments: false\n",
    "type: hacks\n",
    "courses: {\"compsci\": {week: 10} }\n",
    "---"
   ]
  },
  {
   "cell_type": "markdown",
   "metadata": {},
   "source": [
    "### Homework for Algorithms"
   ]
  },
  {
   "cell_type": "code",
   "execution_count": null,
   "metadata": {},
   "outputs": [],
   "source": [
    "string = input(\"Enter a Palindrome: \")\n",
    "def palindrome(words):\n",
    "    for i in words:\n",
    "        if words[0] != words[len(words)-1]:\n",
    "            return \"It is not a palindrome\"\n",
    "    return \"It is a palindrome\"\n",
    "\n",
    "print(palindrome(string))\n",
    "\n",
    "names = [\"Jedd\", \"Bob\", \"Dentobot\", \"Chris\", \"Kaiyu\"]\n",
    "sorted_names = sorted(names)\n",
    "\n",
    "print(\"Names sorted in alphabetical order:\")\n",
    "for name in sorted_names:\n",
    "    print(name)"
   ]
  }
 ],
 "metadata": {
  "language_info": {
   "name": "python"
  },
  "orig_nbformat": 4
 },
 "nbformat": 4,
 "nbformat_minor": 2
}
